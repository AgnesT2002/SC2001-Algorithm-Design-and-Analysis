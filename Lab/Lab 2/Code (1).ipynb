{
 "cells": [
  {
   "cell_type": "markdown",
   "id": "e84fe290",
   "metadata": {
    "id": "e84fe290"
   },
   "source": [
    "## 1. Suppose the input graph G = (V, E) is stored in an adjacency matrix and we use an array for the priority queue. Implement the Dijkstra’s algorithm using this setting and analyze its time complexity with respect to |V| and |E| both theoretically and empirically."
   ]
  },
  {
   "cell_type": "markdown",
   "id": "gXKVFNEsErsZ",
   "metadata": {
    "id": "gXKVFNEsErsZ"
   },
   "source": [
    "**Dijkstra Algo for part A**\n",
    "(https://www.youtube.com/watch?v=CerlT7tTZfY&t=580s)"
   ]
  },
  {
   "cell_type": "code",
   "execution_count": 1,
   "id": "fdf5db47",
   "metadata": {
    "colab": {
     "base_uri": "https://localhost:8080/"
    },
    "id": "fdf5db47",
    "outputId": "f865cd62-0b86-4fa3-c375-509ca1776d5c"
   },
   "outputs": [
    {
     "name": "stdout",
     "output_type": "stream",
     "text": [
      "[0, 4, 2, 3, 6] [None, 0, 0, 2, 3]\n"
     ]
    }
   ],
   "source": [
    "#undirected graph (form youtube)\n",
    "G1 = [[0, 4, 2, None, None, 7, None, None],   #0\n",
    "    [4, 0, None, 2, None, None, None, None],   #1\n",
    "    [2, None, 0, None, 8, 3, None, None],    #2\n",
    "    [None, 2, None, 0, None, 5, 6, None],    #3\n",
    "    [None, None, 8, None, 0, None, None, 3],   #4\n",
    "    [7, None, 3, 5, None, 0, None, 4],     #5\n",
    "    [None, None, None, 6, None, None, 0, 2],   #6\n",
    "    [None, None, None, None, 3, 4, 2, 0]]    #7\n",
    "\n",
    "#directed graph (from tutorial)\n",
    "G2 = [[0, 4, 2, 6, 8],\n",
    "      [None, 0, None, 4, 3],\n",
    "      [None, None, 0, 1, None],\n",
    "      [None, 1, None, 0, 3],\n",
    "      [None, None, None, None, 0]]\n",
    "    \n",
    "\n",
    "    \n",
    "def Dijkstra_MA(G, source, V):   #V is total number of vertices\n",
    "    Q = []                #Q[x] = (from, to, cost)\n",
    "    d,pi,S = [], [], []\n",
    "    for v in range(V): \n",
    "        d.append(1e99)    #shortest distance from source to node v\n",
    "        pi.append(None)   #predececent node\n",
    "        S.append(0)       #Solution set\n",
    "        \n",
    "    d[source] = 0\n",
    "    S[source] = 1\n",
    "    \n",
    "    #put all connected nodes into Q\n",
    "    for n in range(V):\n",
    "        if n!= source and G[source][n] != None:\n",
    "            Q.append((source, n, G[source][n]))\n",
    "    \n",
    "    Q.sort(key=lambda tup: tup[2])       #Python uses Tim sort (merge + insertion)\n",
    "    #print(Q)\n",
    "    \n",
    "    while len(Q) != 0:\n",
    "        u = Q.pop(0)         #extract smallest cost\n",
    "        cn = u[1]\n",
    "        \n",
    "        if S[cn] == 0:\n",
    "            S[cn] = 1       #node is visited\n",
    "            d[cn] = u[2]\n",
    "            pi[cn] = u[0]\n",
    "        \n",
    "        else:       #need to compare which is shorter\n",
    "            if d[cn] > u[2]:\n",
    "                d[cn] = u[2]\n",
    "                pi[cn] = u[0]\n",
    "        \n",
    "        for v in range(V):\n",
    "            if S[v] == 0 and v!= cn and G[cn][v] != None:   #for every node connected to current node\n",
    "                Q.append((cn, v, G[cn][v] + d[cn]))\n",
    "        \n",
    "        Q.sort(key=lambda tup: tup[2])\n",
    "        \n",
    "    \n",
    "    print(d, pi)\n",
    "    \n",
    "            \n",
    "Dijkstra_MA(G2, 0, 5)"
   ]
  },
  {
   "cell_type": "code",
   "execution_count": null,
   "id": "af03359a",
   "metadata": {
    "id": "af03359a"
   },
   "outputs": [],
   "source": []
  },
  {
   "cell_type": "markdown",
   "id": "29FTqQ8_hdUB",
   "metadata": {
    "id": "29FTqQ8_hdUB"
   },
   "source": [
    "## 2. Suppose the input graph G = (V, E) is stored in an array of adjacency lists and we use a minimizing heap for the priority queue. Implement the Dijkstra’s algorithm using this setting and analyze its time complexity with respect to |V| and |E| both theoretically and empirically. "
   ]
  },
  {
   "cell_type": "markdown",
   "id": "2HXVkLvfE3qX",
   "metadata": {
    "id": "2HXVkLvfE3qX"
   },
   "source": [
    "**Dijkstra Algo for part B**"
   ]
  },
  {
   "cell_type": "code",
   "execution_count": 2,
   "id": "ufv04S20E5TE",
   "metadata": {
    "id": "ufv04S20E5TE"
   },
   "outputs": [],
   "source": [
    "from collections import defaultdict\n",
    "\n",
    "#Implementation of Heap\n",
    "class Heap():\n",
    "  def __init__(self):\n",
    "    self.array = []\n",
    "    self.size = 0\n",
    "    self.pos = []\n",
    "\n",
    "  def newMinNode(self, v, dist):\n",
    "    minNode = [v, dist]\n",
    "    return minNode\n",
    "\n",
    "  def swapMinNode(self, a, b):\n",
    "      temp = self.array[a]\n",
    "      self.array[a] = self.array[b]\n",
    "      self.array[b] = temp\n",
    "\n",
    "  def Heapify(self, root):\n",
    "    smallest = root;\n",
    "    left = 2*root + 1\n",
    "    right = 2*root + 2\n",
    "\n",
    "    if(left < self.size and self.array[left][1] < self.array[smallest][1]):\n",
    "      smallest = left\n",
    "\n",
    "    if(right < self.size and self.array[right][1] < self.array[smallest][1]):\n",
    "      smallest = right\n",
    "\n",
    "    if smallest != root:\n",
    "      self.swapMinNode(smallest, root)\n",
    "\n",
    "      # Swap positions\n",
    "      self.pos[self.array[smallest][0]] = root\n",
    "      self.pos[self.array[root][0]] = smallest\n",
    "\n",
    "      # Swap nodes\n",
    "      self.swapMinNode(smallest, root)\n",
    "\n",
    "      self.Heapify(smallest)\n",
    "\n",
    "  def extractMin(self):\n",
    "    if self.isEmpty() == True:\n",
    "      return\n",
    "    root = self.array[0]\n",
    "\n",
    "    last = self.array[self.size-1]\n",
    "    self.array[0] = last\n",
    "\n",
    "    self.pos[last[0]] = 0\n",
    "    self.pos[root[0]] = self.size-1\n",
    "\n",
    "    self.size -= 1\n",
    "    self.Heapify(0)\n",
    "\n",
    "    return root\n",
    "\n",
    "  def deceaseKey(self, v, dist):\n",
    " \n",
    "    i = self.pos[v]\n",
    "    self.array[i][1] = dist\n",
    "\n",
    "    while (i > 0 and self.array[i][1] < self.array[(i - 1) // 2][1]):\n",
    "\n",
    "      # Swap this node with its parent\n",
    "      self.pos[ self.array[i][0] ] = (i-1)//2\n",
    "      self.pos[ self.array[(i-1)//2][0] ] = i\n",
    "      self.swapMinNode(i, (i - 1)//2 )\n",
    "\n",
    "      # move to parent index\n",
    "      i = (i - 1) // 2;\n",
    "\n",
    "  def isEmpty(self):\n",
    "    if self.size == 0:\n",
    "      return True\n",
    "    else:\n",
    "      return False\n",
    "\n",
    "  def isInMinHeap(self, v):\n",
    "      if self.pos[v] < self.size:\n",
    "        return True\n",
    "      return False"
   ]
  },
  {
   "cell_type": "code",
   "execution_count": 3,
   "id": "Zh1iIJ2LE6e3",
   "metadata": {
    "id": "Zh1iIJ2LE6e3"
   },
   "outputs": [],
   "source": [
    "#Implemenation of Adjacency List \n",
    "class Graph_AdjacencyList():\n",
    "  def __init__(self, V):\n",
    "      self.V = V\n",
    "      self.graph = defaultdict(list) #in python, we use dictionary for the adjacency list\n",
    "\n",
    "  def addEdge(self, src, dest, weight):\n",
    "      newNode = [dest, weight]\n",
    "      self.graph[src].insert(0, newNode)"
   ]
  },
  {
   "cell_type": "code",
   "execution_count": 4,
   "id": "_N3vLXJ2Ikfl",
   "metadata": {
    "colab": {
     "base_uri": "https://localhost:8080/"
    },
    "id": "_N3vLXJ2Ikfl",
    "outputId": "a75d8e65-587e-4022-adc5-e9df7c084026"
   },
   "outputs": [
    {
     "name": "stdout",
     "output_type": "stream",
     "text": [
      "[0, 4, 2, 3, 6] [None, 0, 0, 2, 3]\n"
     ]
    }
   ],
   "source": [
    "def dijkstraHeap(graph, source):\n",
    "    V = graph.V \n",
    "    d = []   \n",
    "    pi = []\n",
    "\n",
    "    minHeap = Heap()\n",
    "\n",
    "    for v in range(V):\n",
    "      d.append(1e7)\n",
    "      pi.append(None)\n",
    "      minHeap.array.append( minHeap.newMinNode(v, d[v]))\n",
    "      minHeap.pos.append(v)\n",
    "\n",
    "    minHeap.pos[source] = source\n",
    "    d[source] = 0\n",
    "    minHeap.deceaseKey(source, d[source])\n",
    "\n",
    "    # Initially size of min heap is equal to V\n",
    "    minHeap.size = V;\n",
    "    while minHeap.isEmpty() == False:\n",
    "\n",
    "      newHeapNode = minHeap.extractMin()\n",
    "      u = newHeapNode[0]\n",
    "\n",
    "      for adjVertex in graph.graph[u]:\n",
    "        v = adjVertex[0]\n",
    "\n",
    "        if (minHeap.isInMinHeap(v) and d[u] != 1e7 and adjVertex[1] + d[u] < d[v]):\n",
    "          d[v] = adjVertex[1] + d[u]\n",
    "          pi[v] = u\n",
    "          minHeap.deceaseKey(v, d[v])\n",
    "\n",
    "    print(d,pi)\n",
    "\n",
    "#Graph from tutorial\n",
    "graph = Graph_AdjacencyList(5)\n",
    "graph.addEdge(0, 1, 4)\n",
    "graph.addEdge(0, 2, 2)\n",
    "graph.addEdge(0, 3, 6)\n",
    "graph.addEdge(0, 4, 8)\n",
    "graph.addEdge(1, 3, 4)\n",
    "graph.addEdge(1, 4, 3)\n",
    "graph.addEdge(2, 3, 1)\n",
    "graph.addEdge(3, 1, 1)\n",
    "graph.addEdge(3, 4, 3)\n",
    "dijkstraHeap(graph,0)"
   ]
  },
  {
   "cell_type": "markdown",
   "id": "yKepV_mcE80I",
   "metadata": {
    "id": "yKepV_mcE80I"
   },
   "source": [
    "**Creating Random Directional graph**"
   ]
  },
  {
   "cell_type": "code",
   "execution_count": 5,
   "id": "SV6-H5Q8FQ1a",
   "metadata": {
    "id": "SV6-H5Q8FQ1a"
   },
   "outputs": [],
   "source": [
    "#creating graph\n",
    "from networkx.generators.random_graphs import gnm_random_graph\n",
    "import random\n",
    "\n",
    "def generateGraph(n,e):\n",
    "    #p = 0.5    #probability an edge exists btwn 2 vertices\n",
    "    g = gnm_random_graph(n, e, directed=True)\n",
    "\n",
    "    for (start, end) in g.edges:\n",
    "        g.edges[start, end]['cost'] = random.randint(1,20)\n",
    "        \n",
    "    g.edges = list(g.edges.data('cost'))\n",
    "    return g\n",
    "\n",
    "#convert Graph type into matrix\n",
    "def convertGtoM(G, V):   #V = number of vertices\n",
    "    #create empty matrix first\n",
    "    M = []\n",
    "    for i in range(V):\n",
    "        M.append([None for x in range(V)])\n",
    "        \n",
    "    for i in range(V):\n",
    "        M[i][i] = 0\n",
    "        \n",
    "    for e in G.edges:\n",
    "        M[e[0]][e[1]] = e[2]\n",
    "        \n",
    "    print(M)\n",
    "\n",
    "\n",
    "#convert Graph type into Adj list  \n",
    "def convertGtoL(G, V):\n",
    "  adjacencyList = Graph_AdjacencyList(V)\n",
    "\n",
    "  for e in G.edges:\n",
    "    adjacencyList.addEdge(e[0], e[1], e[2])\n",
    "\n",
    "  return adjacencyList"
   ]
  },
  {
   "cell_type": "markdown",
   "id": "z3yQ7DWlFTSb",
   "metadata": {
    "id": "z3yQ7DWlFTSb"
   },
   "source": [
    "**Testing and generating data**"
   ]
  },
  {
   "cell_type": "code",
   "execution_count": 12,
   "id": "piTYTayxFWoc",
   "metadata": {
    "id": "piTYTayxFWoc"
   },
   "outputs": [
    {
     "name": "stdout",
     "output_type": "stream",
     "text": [
      "[[0, None, None, None, None, None, None, None, None, None], [None, 0, None, None, None, None, None, 12, None, None], [None, None, 0, None, None, None, None, None, None, None], [None, None, None, 0, None, None, None, None, None, None], [None, None, None, None, 0, None, None, None, None, None], [None, None, None, None, None, 0, None, None, 11, None], [None, None, None, None, None, None, 0, None, None, 8], [None, None, None, None, None, None, 13, 0, None, None], [None, None, None, None, 9, None, None, None, 0, None], [None, None, None, None, None, None, None, None, None, 0]]\n",
      "Adjacency Matrix:\n",
      "\n",
      "None\n",
      "Adjacency List:\n",
      "\n",
      "defaultdict(<class 'list'>, {1: [[7, 12]], 5: [[8, 11]], 6: [[9, 8]], 7: [[6, 13]], 8: [[4, 9]]})\n"
     ]
    }
   ],
   "source": [
    "#Testing\n",
    "import time\n",
    "\n",
    "#axis for graphs to plot (time against #vertices and time against #edges)\n",
    "plotAn, plotAe, plotAt = [], [], []\n",
    "plotBn, plotBe, plotBt = [], [], []\n",
    "\n",
    "for e in range(5, 10, 5):\n",
    "    n=10\n",
    "    G = generateGraph(n,e)\n",
    "    M = convertGtoM(G, n)\n",
    "    L = convertGtoL(G, n)\n",
    "    print(\"Adjacency Matrix:\\n\")\n",
    "    print(M)\n",
    "    print(\"Adjacency List:\\n\")\n",
    "    print(L.graph)\n",
    "    '''\n",
    "    #Dijkstra Algo for part(a)\n",
    "    start = time.time()\n",
    "    Dijkstra_MA(M, 0, n)\n",
    "    durationA = time.time() - start\n",
    "    plotAn.append(n)\n",
    "    plotAe.append(len(G.edges))\n",
    "    plotAt.append(durationA)\n",
    "    \n",
    "    #Dijkstra Algo for part(b)\n",
    "    start = time.time()\n",
    "    dijkstraHeap(L,0)\n",
    "    durationB = time.time() - start\n",
    "    plotBn.append(n)\n",
    "    plotBe.append(len(G.edges))\n",
    "    plotBt.append(durationB)\n",
    "    '''\n",
    "#print(plotAn, plotAe, plotAt)"
   ]
  }
 ],
 "metadata": {
  "colab": {
   "collapsed_sections": [],
   "provenance": []
  },
  "kernelspec": {
   "display_name": "Python 3 (ipykernel)",
   "language": "python",
   "name": "python3"
  },
  "language_info": {
   "codemirror_mode": {
    "name": "ipython",
    "version": 3
   },
   "file_extension": ".py",
   "mimetype": "text/x-python",
   "name": "python",
   "nbconvert_exporter": "python",
   "pygments_lexer": "ipython3",
   "version": "3.9.6"
  }
 },
 "nbformat": 4,
 "nbformat_minor": 5
}
