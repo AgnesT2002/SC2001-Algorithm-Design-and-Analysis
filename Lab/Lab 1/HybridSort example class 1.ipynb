{
 "cells": [
  {
   "cell_type": "markdown",
   "id": "0dda0ab8",
   "metadata": {},
   "source": [
    "# Insertion Sort "
   ]
  },
  {
   "cell_type": "code",
   "execution_count": 22,
   "id": "51c31542",
   "metadata": {},
   "outputs": [],
   "source": [
    "def insertionSort(L):\n",
    "    global key\n",
    "    n =len(L)\n",
    "    for i in range(0, n):\n",
    "        for j in range(i, 0, -1):\n",
    "            key+=1;\n",
    "            if (L[j] < L[j-1]):\n",
    "                L[j], L[j-1] = L[j-1], L[j]\n",
    "            else: break\n",
    "    return L"
   ]
  },
  {
   "cell_type": "markdown",
   "id": "173f9c38",
   "metadata": {},
   "source": [
    "# Merge Sort"
   ]
  },
  {
   "cell_type": "code",
   "execution_count": 23,
   "id": "a2f0dbd6",
   "metadata": {},
   "outputs": [],
   "source": [
    "def merge(left,right):\n",
    "    global key\n",
    "    S=[]\n",
    "    M=len(left)\n",
    "    N=len(right)\n",
    "    pos1=0\n",
    "    pos2=0\n",
    "    while pos1<M and pos2<N:\n",
    "        key+=1\n",
    "        if left[pos1]<=right[pos2]:\n",
    "            S.append(left[pos1])\n",
    "            pos1+=1\n",
    "        \n",
    "        elif left[pos1]>right[pos2]:\n",
    "            S.append(right[pos2])\n",
    "            pos2+=1\n",
    "            \n",
    "    \n",
    "    if pos1==M and pos2==N:\n",
    "        return S\n",
    "    if pos1==M:\n",
    "        for i in range(pos2,N):\n",
    "            S.append(right[i])\n",
    "    elif pos2==N:\n",
    "        for i in range(pos1,M):\n",
    "            S.append(left[i])\n",
    "            \n",
    "    return S\n",
    "\n",
    "\n",
    "\n",
    "def mergesort(L):\n",
    "    maxindex = len(L)\n",
    "    \n",
    "    if maxindex>1:\n",
    "        half = maxindex//2\n",
    "        leftL = L[:half]\n",
    "        rightL = L[half:]\n",
    "    \n",
    "        sortedleft = mergesort(leftL)\n",
    "        sortedright = mergesort(rightL)\n",
    "        \n",
    "        result = merge(sortedleft,sortedright)\n",
    "    \n",
    "    else:\n",
    "        result=L\n",
    "        \n",
    "    return result"
   ]
  },
  {
   "cell_type": "markdown",
   "id": "c1b57fc6",
   "metadata": {},
   "source": [
    "# Hybrid Sort "
   ]
  },
  {
   "cell_type": "code",
   "execution_count": 24,
   "id": "ad9366ba",
   "metadata": {},
   "outputs": [],
   "source": [
    "def hybridsort(L):\n",
    "    maxindex = len(L)\n",
    "    \n",
    "    if maxindex>1:\n",
    "        if maxindex < S: return insertionSort(L)\n",
    "\n",
    "        half = maxindex//2\n",
    "        leftL = L[:half]\n",
    "        rightL = L[half:]\n",
    "    \n",
    "        sortedleft = hybridsort(leftL)\n",
    "        sortedright = hybridsort(rightL)\n",
    "        \n",
    "        result = merge(sortedleft,sortedright)\n",
    "    \n",
    "    else:\n",
    "        result = L\n",
    "        \n",
    "    return result"
   ]
  },
  {
   "cell_type": "code",
   "execution_count": 28,
   "id": "bd98d264",
   "metadata": {},
   "outputs": [
    {
     "name": "stdout",
     "output_type": "stream",
     "text": [
      "--- 200.46573853492737 seconds ---\n",
      "68472294\n"
     ]
    }
   ],
   "source": [
    "import random\n",
    "L = []\n",
    "Lsize = 10000000\n",
    "S = 10\n",
    "key = 0\n",
    "\n",
    "for i in range(0,Lsize+1): L.append(random.randrange(0, Lsize))\n",
    "\n",
    "# #worst case\n",
    "# for i in range(Lsize, 0, -1): L.append(i)\n",
    "\n",
    "#print(L)\n",
    "\n",
    "import time\n",
    "start_time = time.time()\n",
    "\n",
    "hybridsort(L)\n",
    "\n",
    "print(\"--- %s seconds ---\" % (time.time() - start_time))\n",
    "\n",
    "#print(L)\n",
    "print(keycomp)"
   ]
  },
  {
   "cell_type": "code",
   "execution_count": null,
   "id": "dc08f4be",
   "metadata": {},
   "outputs": [],
   "source": []
  },
  {
   "cell_type": "code",
   "execution_count": 4,
   "id": "73e36bd4",
   "metadata": {},
   "outputs": [],
   "source": [
    "import random\n",
    "import time\n",
    "\n",
    "def main(n):\n",
    "    global key\n",
    "    L = []\n",
    "    Lsize = n\n",
    "    S = 10\n",
    "    key = 0\n",
    "\n",
    "    for i in range(Lsize):\n",
    "      L.append(random.randrange(0, Lsize))\n",
    "\n",
    "    # worst case\n",
    "    # for i in range(Lsize, 0, -1):\n",
    "    #   L.append(i)\n",
    "\n",
    "    start_time = time.time()\n",
    "\n",
    "    hybridsort(L)\n",
    "\n",
    "    duration = time.time() - start_time\n",
    "    print(\"Input Size:\", Lsize, \"No. of key comp:\", key, \"Time taken:\", duration)\n"
   ]
  },
  {
   "cell_type": "code",
   "execution_count": 13,
   "id": "0909c439",
   "metadata": {},
   "outputs": [
    {
     "name": "stdout",
     "output_type": "stream",
     "text": [
      "Input Size: 72566 No. of key comp: 1053627 Time taken: 0.3732278347015381\n",
      "Input Size: 24405 No. of key comp: 315990 Time taken: 0.1188352108001709\n",
      "Input Size: 10404 No. of key comp: 121982 Time taken: 0.046860694885253906\n",
      "Input Size: 12635 No. of key comp: 151587 Time taken: 0.06917095184326172\n",
      "Input Size: 68773 No. of key comp: 992989 Time taken: 0.3626573085784912\n",
      "Input Size: 63460 No. of key comp: 908410 Time taken: 0.3161039352416992\n",
      "Input Size: 96634 No. of key comp: 1443570 Time taken: 0.5024099349975586\n",
      "Input Size: 48934 No. of key comp: 683006 Time taken: 0.22911548614501953\n",
      "Input Size: 61049 No. of key comp: 870893 Time taken: 0.3138740062713623\n",
      "Input Size: 41060 No. of key comp: 562385 Time taken: 0.19922685623168945\n",
      "Input Size: 66611 No. of key comp: 958231 Time taken: 0.337648868560791\n",
      "Input Size: 77901 No. of key comp: 1139199 Time taken: 0.40418267250061035\n",
      "Input Size: 98785 No. of key comp: 1478764 Time taken: 0.5406477451324463\n",
      "Input Size: 24305 No. of key comp: 314520 Time taken: 0.11204886436462402\n",
      "Input Size: 40038 No. of key comp: 547125 Time taken: 0.2021934986114502\n",
      "Input Size: 6074 No. of key comp: 66483 Time taken: 0.03129005432128906\n",
      "Input Size: 94040 No. of key comp: 1401013 Time taken: 0.49779319763183594\n",
      "Input Size: 32991 No. of key comp: 441071 Time taken: 0.16181445121765137\n",
      "Input Size: 77770 No. of key comp: 1136974 Time taken: 0.44040608406066895\n",
      "Input Size: 56049 No. of key comp: 792732 Time taken: 0.27767086029052734\n",
      "[72566, 24405, 10404, 12635, 68773, 63460, 96634, 48934, 61049, 41060, 66611, 77901, 98785, 24305, 40038, 6074, 94040, 32991, 77770, 56049]\n",
      "[1053627, 315990, 121982, 151587, 992989, 908410, 1443570, 683006, 870893, 562385, 958231, 1139199, 1478764, 314520, 547125, 66483, 1401013, 441071, 1136974, 792732]\n"
     ]
    }
   ],
   "source": [
    "#import matplotlib.pyplot as plt\n",
    "import random\n",
    "\n",
    "x = []\n",
    "y = []\n",
    "\n",
    "\n",
    "for n in range(1000, 100000, 500):\n",
    "    x.append(n)\n",
    "    main(n)\n",
    "    y.append(key)\n",
    "\n",
    "print(x)\n",
    "print(y)"
   ]
  },
  {
   "cell_type": "code",
   "execution_count": null,
   "id": "53d6d588",
   "metadata": {},
   "outputs": [],
   "source": [
    "import matplotlib.pyplot as plt\n",
    "\n",
    "plt.plot(x,y)\n",
    "plt.xlabel('Input Size')\n",
    "plt.ylabel('Key Comparisons')\n",
    "plt.title(\"C(i)\")\n",
    "plt.show()"
   ]
  }
 ],
 "metadata": {
  "kernelspec": {
   "display_name": "Python 3 (ipykernel)",
   "language": "python",
   "name": "python3"
  },
  "language_info": {
   "codemirror_mode": {
    "name": "ipython",
    "version": 3
   },
   "file_extension": ".py",
   "mimetype": "text/x-python",
   "name": "python",
   "nbconvert_exporter": "python",
   "pygments_lexer": "ipython3",
   "version": "3.9.6"
  }
 },
 "nbformat": 4,
 "nbformat_minor": 5
}
