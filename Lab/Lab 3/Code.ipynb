{
 "cells": [
  {
   "cell_type": "code",
   "execution_count": 11,
   "id": "42e744f6",
   "metadata": {},
   "outputs": [
    {
     "name": "stdout",
     "output_type": "stream",
     "text": [
      "Capacity: 14\n",
      "Number of objects: 3\n",
      "weight of objects: 4 6 8\n",
      "profit of objects: 7 6 9\n",
      "[0, 0, 0, 0, 7, 7, 7, 7, 14, 14, 14, 14, 21, 21, 21]\n"
     ]
    }
   ],
   "source": [
    "C = int(input(\"Capacity: \"))\n",
    "n = int(input(\"Number of objects: \"))\n",
    "W = [int(i) for i in input(\"weight of objects: \").split()]\n",
    "P = [int(i) for i in input(\"profit of objects: \").split()]\n",
    "\n",
    "def knapsack(W, P, C, n):\n",
    "    profit = [0 for i in range(C + 1)]     \n",
    "        \n",
    "    for c in range(C+1):                                 #for each Capacity up till C\n",
    "        for o in range(n):\n",
    "            if (W[o] <= c):                               #weight of object is lesser than or equal to the current capacity\n",
    "                if (profit[c] < profit[c-W[o]] + P[o]):\n",
    "                    profit[c] = profit[c-W[o]] + P[o];    #profit when including obj o is higher\n",
    "                    \n",
    "    print(profit[C])\n",
    "    \n",
    "\n",
    "knapsack(W, P, C, n)\n"
   ]
  },
  {
   "cell_type": "code",
   "execution_count": 3,
   "id": "716ddabc",
   "metadata": {},
   "outputs": [
    {
     "data": {
      "text/plain": [
       "21"
      ]
     },
     "execution_count": 3,
     "metadata": {},
     "output_type": "execute_result"
    }
   ],
   "source": [
    "C = 14\n",
    "weight = [4, 6, 8]\n",
    "profit = [7, 6, 9]\n",
    "n = 3\n",
    "\n",
    "def P(weight, profit, C, n):\n",
    "    if (C == 0 or n == -1):     #base case: no more space or no more items to consider\n",
    "        return 0;\n",
    "    \n",
    "    if (weight[n] > C):\n",
    "        return P(weight, profit, C, n-1)    #last object too big, recursively call the function without that object\n",
    "    \n",
    "    return max(profit[n] + P(weight, profit, C-weight[n], n) , P(weight, profit, C, n-1))    \n",
    "            #compare profits for when we include and do not include the nth object\n",
    "\n",
    "P(weight, profit, C, n-1)"
   ]
  },
  {
   "cell_type": "code",
   "execution_count": null,
   "id": "cc789e63",
   "metadata": {},
   "outputs": [],
   "source": [
    "C = 14\n",
    "weight = [4, 6, 8]\n",
    "profit = [7, 6, 9]\n",
    "n = 3\n",
    "\n",
    "def P(weight, profit, C, n):\n",
    "    if (C == 0 or n == -1):\n",
    "        return 0;\n",
    "    \n",
    "    if (weight[n] > C):\n",
    "        return P(weight, profit, C, n-1)\n",
    "    \n",
    "    return max(profit[n] + P(weight, profit, C-weight[n], n) , P(weight, profit, C, n-1))    \n",
    "\n",
    "P(weight, profit, C, n-1)"
   ]
  },
  {
   "cell_type": "markdown",
   "id": "f542eef6",
   "metadata": {},
   "source": [
    "###### "
   ]
  }
 ],
 "metadata": {
  "kernelspec": {
   "display_name": "Python 3 (ipykernel)",
   "language": "python",
   "name": "python3"
  },
  "language_info": {
   "codemirror_mode": {
    "name": "ipython",
    "version": 3
   },
   "file_extension": ".py",
   "mimetype": "text/x-python",
   "name": "python",
   "nbconvert_exporter": "python",
   "pygments_lexer": "ipython3",
   "version": "3.9.6"
  }
 },
 "nbformat": 4,
 "nbformat_minor": 5
}
